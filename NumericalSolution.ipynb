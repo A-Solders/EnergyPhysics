{
 "cells": [
  {
   "cell_type": "markdown",
   "metadata": {},
   "source": [
    "(created by Zsolt Elter)\n",
    "\n",
    "# Numerical solution of the one-group diffusion equation\n",
    "\n",
    "In realistic reactor calculations the analytical solution of the diffusion equation is usually not possible (for example due to the heterogenities in the reactor, such as fuel pellets, cladding, moderator channels, etc).\n",
    "\n",
    "Thus the solution often requires numerical treatment. In this notebook we will explore a simple case, a homogenous slab reactor: for such system both analytical and numerical solution is possible, and can be compared.\n",
    "\n",
    "Suppose we would like to solve \n",
    "\n",
    "$$-D\\frac{d^2\\phi}{dx^2}+\\Sigma_a\\phi(x)=S(x)$$\n",
    "\n",
    "with boundary conditions\n",
    "\n",
    "$$\\phi(0)=\\phi(a)=0$$\n",
    "\n",
    "(let's ignore now the extrapolation length).\n",
    "\n",
    "We can discretize the the spatial variable $x$ by choosing a set of $N+1$ discrete points ($x_0,x_1,...,x_i,...x_N$) which are equally spaced. The distance between the neigbouring points is $\\Delta=a/N$.\n",
    "\n",
    "If we wanted to rewrite the above diffusion equation at each discrete $x_i$ point, we need an approximation for the term $\\frac{d^2\\phi}{dx^2}$. We can Taylor expend $\\phi$ at $x_{i\\pm1}$:\n",
    "\n",
    "$$\\phi_{i+1}=\\phi(x_{i+1})=\\phi_i+\\Delta\\frac{d\\phi}{dx}\\Big\\rvert_i+\\frac{\\Delta^2}{2}\\frac{d^2\\phi}{dx^2}\\Big\\rvert_i+...$$\n",
    "\n",
    "and\n",
    "\n",
    "$$\\phi_{i-1}=\\phi(x_{i-1})=\\phi_i-\\Delta\\frac{d\\phi}{dx}\\Big\\rvert_i+\\frac{\\Delta^2}{2}\\frac{d^2\\phi}{dx^2}\\Big\\rvert_i-...$$\n",
    "\n",
    "Upon adding these one arrives to\n",
    "\n",
    "$$\\frac{d^2\\phi}{dx^2}\\Big\\rvert_i\\approx \\frac{\\phi_{i+1}-2\\phi_i+\\phi_{i-1}}{\\Delta^2}$$\n",
    "\n",
    "with that our diffusion equation becomes\n",
    "\n",
    "$$-D\\Bigg(\\frac{\\phi_{i+1}-2\\phi_i+\\phi_{i-1}}{\\Delta^2}\\Bigg)+\\Sigma_a\\phi_i=S_i \\quad i=1,2,...$$\n",
    "\n",
    "We can rearrange this\n",
    "\n",
    "$$-\\frac{D}{\\Delta^2}\\phi_{i-1}+(\\frac{2D}{\\Delta^2}+\\Sigma_a)\\phi_i-\\frac{D}{\\Delta^2}\\phi_{i+1}=S_i$$\n",
    "\n",
    "that is with some new constants\n",
    "\n",
    "$$a_{i,i-1}\\phi_{i-1}+a_{i,i}\\phi_i-a_{i,i+1}\\phi_{i+1}=S_i \\quad i=1,2...,N-1$$\n",
    "\n",
    "(we dont have equations for $i=0$ and $i=N$, since we have boundary conditions there, which actually present themself by the fact that in case of $i=1$ the $\\phi_{i-1}$ disappears).\n",
    "\n",
    "Thus we could construct a matrix $\\underline{\\underline{A}}$\n",
    "\n",
    "\\begin{pmatrix}\n",
    "a_{1,1} & a_{1,2} & 0 & 0 & 0 & \\cdots \\\\\n",
    "a_{2,1} & a_{2,2} & a_{2,3} & 0 & 0 & \\cdots \\\\\n",
    "0 & a_{3,2} & a_{3,3} & a_{3,4} & 0 & \\cdots \\\\\n",
    "0 & 0 & a_{4,3} & a_{4,4} & a_{4,5} & \\cdots  \\\\\n",
    "\\vdots & \\vdots & \\vdots & \\vdots & \\vdots & \\vdots &\n",
    "\\end{pmatrix}\n",
    "\n",
    "with which\n",
    "\n",
    "$\\underline{\\underline{A}}\\underline{\\phi}=\\underline{S}$\n",
    "\n",
    "where $\\underline{\\phi}$ and $\\underline{S}$ are the vectors made of the discrete flux and source values. Thus by inverting the matrix one can solve for the flux. \n",
    "\n",
    "It is easy to see that such a problem could be similarly further developed by assuming that $D$ and $\\Sigma_a$ also depend on the spatial coordinate. Or one could develop it for a multiplying medium.\n",
    "\n",
    "### Task\n",
    "\n",
    "Solve the flux for some simple cases. \n",
    "\n",
    "a, when the source is located in the middle of a slab\n",
    "\n",
    "b, when the source is uniform in the whole slab\n",
    "\n",
    "hint: you can use the np.linalg.solve function once the matrix and the vectors are constructed.\n",
    "\n"
   ]
  },
  {
   "cell_type": "code",
   "execution_count": 55,
   "metadata": {},
   "outputs": [],
   "source": [
    "import numpy as np\n",
    "import matplotlib.pyplot as plt\n",
    "a=100\n",
    "D=0.9\n",
    "Sigma_a=0.066\n",
    "L=np.sqrt(D/Sigma_a)\n",
    "B=np.sqrt(Sigma_a/D)\n",
    "N=30"
   ]
  },
  {
   "cell_type": "markdown",
   "metadata": {},
   "source": [
    "### Solution"
   ]
  },
  {
   "cell_type": "code",
   "execution_count": 61,
   "metadata": {},
   "outputs": [
    {
     "data": {
      "image/png": "[encoded data removed]",
      "text/plain": [
       "<Figure size 432x288 with 1 Axes>"
      ]
     },
     "metadata": {
      "needs_background": "light"
     },
     "output_type": "display_data"
    },
    {
     "data": {
      "image/png": "[encoded data removed]",
      "text/plain": [
       "<Figure size 432x288 with 1 Axes>"
      ]
     },
     "metadata": {
      "needs_background": "light"
     },
     "output_type": "display_data"
    }
   ],
   "source": [
    "Delta=a/N\n",
    "x=np.linspace(0,a,N+1)\n",
    "A=np.zeros((N-1,N-1))\n",
    "for i in range(1,N):\n",
    "    if i==1:\n",
    "        A[i-1][i-1]=2*D/Delta**2+Sigma_a\n",
    "        A[i-1][i]=-D/Delta**2\n",
    "    elif i==N-1:\n",
    "        A[i-1][i-2]=-D/Delta**2\n",
    "        A[i-1][i-1]=2*D/Delta**2+Sigma_a\n",
    "    else:\n",
    "        A[i-1][i-2]=-D/Delta**2\n",
    "        A[i-1][i-1]=2*D/Delta**2+Sigma_a\n",
    "        A[i-1][i]=-D/Delta**2\n",
    "\n",
    "        \n",
    "        \n",
    "S=np.zeros(N-1)\n",
    "S[15]=1000           #\"plane\" source\n",
    "\n",
    "flux=np.linalg.solve(A,S)\n",
    "\n",
    "plt.figure\n",
    "plt.plot(x[1:-1],flux)\n",
    "plt.show()\n",
    "\n",
    "S=np.zeros(N-1)\n",
    "S=100*np.ones(N-1)  #constant source everywhere\n",
    "\n",
    "flux=np.linalg.solve(A,S)\n",
    "\n",
    "plt.figure\n",
    "plt.plot(x[1:-1],flux)\n",
    "plt.show()"
   ]
  },
  {
   "cell_type": "code",
   "execution_count": null,
   "metadata": {},
   "outputs": [],
   "source": []
  }
 ],
 "metadata": {
  "kernelspec": {
   "display_name": "Python 3",
   "language": "python",
   "name": "python3"
  },
  "language_info": {
   "codemirror_mode": {
    "name": "ipython",
    "version": 3
   },
   "file_extension": ".py",
   "mimetype": "text/x-python",
   "name": "python",
   "nbconvert_exporter": "python",
   "pygments_lexer": "ipython3",
   "version": "3.7.3"
  }
 },
 "nbformat": 4,
 "nbformat_minor": 2
}
