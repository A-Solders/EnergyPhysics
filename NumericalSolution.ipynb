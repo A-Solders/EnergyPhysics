{
 "cells": [
  {
   "cell_type": "markdown",
   "metadata": {},
   "source": [
    "(created by Zsolt Elter)\n",
    "\n",
    "# Numerical solution of the one-group diffusion equation\n",
    "\n",
    "In realistic reactor calculations the analytical solution of the diffusion equation is usually not possible (for example due to the heterogenities in the reactor, such as fuel pellets, cladding, moderator channels, etc).\n",
    "\n",
    "Thus the solution often requires numerical treatment. In this notebook we will explore a simple case, a homogenous slab reactor: for such system both analytical and numerical solution is possible, and can be compared.\n",
    "\n",
    "Suppose we would like to solve \n",
    "\n",
    "$$-D\\frac{d^2\\phi}{dx^2}+\\Sigma_a\\phi(x)=S(x)$$\n",
    "\n",
    "with boundary conditions\n",
    "\n",
    "$$\\phi(0)=\\phi(a)=0$$\n",
    "\n",
    "(let's ignore now the extrapolation length).\n",
    "\n",
    "We can discretize the the spatial variable $x$ by choosing a set of $N+1$ discrete points ($x_0,x_1,...,x_i,...x_N$) which are equally spaced. The distance between the neigbouring points is $\\Delta=a/N$.\n",
    "\n",
    "If we wanted to rewrite the above diffusion equation at each discrete $x_i$ point in the form of difference equations, we need an approximation for the term $\\frac{d^2\\phi}{dx^2}$. We can Taylor expend $\\phi$ at $x_{i\\pm1}$:\n",
    "\n",
    "$$\\phi_{i+1}=\\phi(x_{i+1})=\\phi_i+\\Delta\\frac{d\\phi}{dx}\\Big\\rvert_i+\\frac{\\Delta^2}{2}\\frac{d^2\\phi}{dx^2}\\Big\\rvert_i+...$$\n",
    "\n",
    "and\n",
    "\n",
    "$$\\phi_{i-1}=\\phi(x_{i-1})=\\phi_i-\\Delta\\frac{d\\phi}{dx}\\Big\\rvert_i+\\frac{\\Delta^2}{2}\\frac{d^2\\phi}{dx^2}\\Big\\rvert_i-...$$\n",
    "\n",
    "Upon adding these one arrives to\n",
    "\n",
    "$$\\frac{d^2\\phi}{dx^2}\\Big\\rvert_i\\approx \\frac{\\phi_{i+1}-2\\phi_i+\\phi_{i-1}}{\\Delta^2}$$\n",
    "\n",
    "with that our diffusion equation becomes\n",
    "\n",
    "$$-D\\Bigg(\\frac{\\phi_{i+1}-2\\phi_i+\\phi_{i-1}}{\\Delta^2}\\Bigg)+\\Sigma_a\\phi_i=S_i \\quad i=1,2,...$$\n",
    "\n",
    "We can rearrange this\n",
    "\n",
    "$$-\\frac{D}{\\Delta^2}\\phi_{i-1}+\\Big(\\frac{2D}{\\Delta^2}+\\Sigma_a\\Big)\\phi_i-\\frac{D}{\\Delta^2}\\phi_{i+1}=S_i$$\n",
    "\n",
    "that is with some new constants\n",
    "\n",
    "$$a_{i,i-1}\\phi_{i-1}+a_{i,i}\\phi_i-a_{i,i+1}\\phi_{i+1}=S_i \\quad i=1,2...,N-1$$\n",
    "\n",
    "(we dont have equations for $i=0$ and $i=N$, since we have boundary conditions there, which actually present themself by the fact that in case of $i=1$ the $\\phi_{i-1}$ disappears).\n",
    "\n",
    "Now, one can see that this is a matrix multiplied with a vector, which results in a vector, in the form of\n",
    "\n",
    "$$\\underline{\\underline{A}}\\underline{\\phi}=\\underline{S}$$\n",
    "\n",
    "where $\\underline{\\underline{A}}$ is made of the above defined coefficients:\n",
    "\n",
    "\\begin{equation*}\n",
    "\\begin{pmatrix}\n",
    "a_{1,1} & a_{1,2} & 0 & 0 & 0 & \\cdots \\\\\n",
    "a_{2,1} & a_{2,2} & a_{2,3} & 0 & 0 & \\cdots \\\\\n",
    "0 & a_{3,2} & a_{3,3} & a_{3,4} & 0 & \\cdots \\\\\n",
    "0 & 0 & a_{4,3} & a_{4,4} & a_{4,5} & \\cdots  \\\\\n",
    "\\vdots & \\vdots & \\vdots & \\vdots & \\vdots & \\vdots &\n",
    "\\end{pmatrix}\n",
    "\\end{equation*}\n",
    "\n",
    "and the vector $\\underline{\\phi}$ is simply the flux at the discrete locations\n",
    "\n",
    "\\begin{equation*}\n",
    "\\begin{pmatrix}\n",
    "\\phi_1 \\\\ \\phi_2 \\\\ \\phi_3 \\\\ \\vdots \\\\ \\phi_{N-2} \\\\ \\phi_{N-1}\n",
    "\\end{pmatrix}\n",
    "\\end{equation*}\n",
    "\n",
    "this is what we seek as the solution!\n",
    "\n",
    "And $\\underline{S}$ is the source at different locations. \n",
    "\n",
    "\\begin{equation*}\n",
    "\\begin{pmatrix}\n",
    "S_1 \\\\ S_2 \\\\ S_3 \\\\ \\vdots \\\\ S_{N-2} \\\\ S_{N-1}\n",
    "\\end{pmatrix}\n",
    "\\end{equation*}\n",
    "\n",
    "which is an input. For example we could have just a plane source (only one non-zero value).\n",
    "\n",
    "Thus by inverting the matrix one can solve for the flux. \n",
    "\n",
    "$$\\underline{\\phi}=\\underline{\\underline{A}}^{-1}\\underline{S}$$\n",
    "\n",
    "The problem could be further developed by assuming that $D$ and $\\Sigma_a$ also depend on the spatial coordinate. And the problem is similar in multiple dimensions. However for the current assignment we can consider the simplest case, with constant $D$ and $\\Sigma_a$ in a finite one-dimensional geometry.\n",
    "\n",
    "### Task 1\n",
    "\n",
    "Review how matrices and vectors can be created with numpy."
   ]
  },
  {
   "cell_type": "code",
   "execution_count": 1,
   "metadata": {},
   "outputs": [],
   "source": [
    "import numpy as np"
   ]
  },
  {
   "cell_type": "code",
   "execution_count": 2,
   "metadata": {},
   "outputs": [
    {
     "name": "stdout",
     "output_type": "stream",
     "text": [
      "[0. 0. 0. 0. 0. 0. 0. 0. 0. 0. 0. 0. 0. 0. 0. 0. 0. 0. 0. 0. 0. 0. 0. 0.\n",
      " 0. 0. 0. 0. 0. 0.]\n"
     ]
    }
   ],
   "source": [
    "a=np.zeros(30)  #vector of zeros with 30 elements\n",
    "print(a)"
   ]
  },
  {
   "cell_type": "code",
   "execution_count": 3,
   "metadata": {},
   "outputs": [
    {
     "name": "stdout",
     "output_type": "stream",
     "text": [
      "[1 2 3 4 5 6]\n",
      "4\n"
     ]
    }
   ],
   "source": [
    "b=np.array([1,2,3,4,5,6]) #vector with six elements\n",
    "print(b)\n",
    "print(b[3]) #the 3rd (starts with 0th) element of b"
   ]
  },
  {
   "cell_type": "code",
   "execution_count": 4,
   "metadata": {},
   "outputs": [
    {
     "name": "stdout",
     "output_type": "stream",
     "text": [
      "[12. 12. 12. 12. 12. 12. 12. 12. 12. 12. 12. 12. 12. 12. 12. 12. 12. 12.\n",
      " 12. 12. 12. 12. 12. 12. 12. 12. 12. 12. 12. 12.]\n"
     ]
    }
   ],
   "source": [
    "c=12*np.ones(30) #vector of ones with 30 elements multiplied by a constant\n",
    "print(c)"
   ]
  },
  {
   "cell_type": "code",
   "execution_count": 5,
   "metadata": {},
   "outputs": [
    {
     "name": "stdout",
     "output_type": "stream",
     "text": [
      "[[0. 0. 0. 0. 0.]\n",
      " [0. 0. 0. 0. 0.]\n",
      " [0. 0. 0. 0. 0.]\n",
      " [0. 0. 0. 0. 0.]\n",
      " [0. 0. 0. 0. 0.]]\n"
     ]
    }
   ],
   "source": [
    "A=np.zeros((5,5)) #5x5 matrix of zeros\n",
    "print(A)"
   ]
  },
  {
   "cell_type": "code",
   "execution_count": 6,
   "metadata": {},
   "outputs": [
    {
     "name": "stdout",
     "output_type": "stream",
     "text": [
      "[[0. 0. 0. 0. 0.]\n",
      " [0. 0. 0. 8. 0.]\n",
      " [0. 0. 0. 0. 0.]\n",
      " [0. 0. 0. 0. 0.]\n",
      " [0. 0. 0. 0. 0.]]\n"
     ]
    }
   ],
   "source": [
    "A[1][3]=8 #assign value to the element in the first row and third column\n",
    "print(A)"
   ]
  },
  {
   "cell_type": "code",
   "execution_count": 7,
   "metadata": {},
   "outputs": [
    {
     "name": "stdout",
     "output_type": "stream",
     "text": [
      "[[1 2 3 4]\n",
      " [5 6 7 8]]\n"
     ]
    }
   ],
   "source": [
    "B=np.array([[1,2,3,4],[5,6,7,8]]) #2x4 matrix\n",
    "print(B)"
   ]
  },
  {
   "cell_type": "code",
   "execution_count": 8,
   "metadata": {},
   "outputs": [
    {
     "name": "stdout",
     "output_type": "stream",
     "text": [
      "[[3. 2. 0. 0. 0. 0. 0. 0. 0. 0.]\n",
      " [0. 3. 2. 0. 0. 0. 0. 0. 0. 0.]\n",
      " [0. 0. 3. 2. 0. 0. 0. 0. 0. 0.]\n",
      " [0. 0. 0. 3. 2. 0. 0. 0. 0. 0.]\n",
      " [0. 0. 0. 0. 3. 2. 0. 0. 0. 0.]\n",
      " [0. 0. 0. 0. 0. 3. 2. 0. 0. 0.]\n",
      " [0. 0. 0. 0. 0. 0. 3. 2. 0. 0.]\n",
      " [0. 0. 0. 0. 0. 0. 0. 3. 2. 0.]\n",
      " [0. 0. 0. 0. 0. 0. 0. 0. 3. 2.]\n",
      " [0. 0. 0. 0. 0. 0. 0. 0. 0. 3.]]\n"
     ]
    }
   ],
   "source": [
    "#create matrix with a for loop\n",
    "C=np.zeros((10,10)) #initialize a 10x10 matrix with zeros\n",
    "for i in range(10):\n",
    "    if i<9:\n",
    "        C[i][i]=3\n",
    "        C[i][i+1]=2\n",
    "    else:\n",
    "        C[i][i]=3\n",
    "print(C)"
   ]
  },
  {
   "cell_type": "code",
   "execution_count": 9,
   "metadata": {},
   "outputs": [
    {
     "name": "stdout",
     "output_type": "stream",
     "text": [
      "[-0.69978702  1.00546787 -0.17585612  0.59143771 -2.32828076  3.7453441\n",
      " -0.28240239  0.93334403 -2.8793743   0.5823894 ]\n"
     ]
    }
   ],
   "source": [
    "#solve Ax=y type system\n",
    "A=np.random.rand(10,10) #10x10 matrix with filled with random numbers\n",
    "y=np.random.rand(10)    #10x1 vector with random numbers\n",
    "x=np.linalg.solve(A,y)\n",
    "print(x)"
   ]
  },
  {
   "cell_type": "markdown",
   "metadata": {},
   "source": [
    "### Task 2\n",
    "\n",
    "Solve for the flux in case of some simple sources. \n",
    "\n",
    "a, when the source is located in the middle of a slab (plane source)\n",
    "\n",
    "b, when the source is uniform in the whole slab (eg. `S=100*np.ones(N)`)\n",
    "\n",
    "$D=0.9\\:\\rm cm$, $\\Sigma_a=0.066\\: \\rm cm^{-1}$, $a=100\\: \\rm cm$, $N=30$. However, you are encouraged to play with other values, for example, interesting to see how the flux looks like in a case, when the absorption cross section is very low.\n",
    "\n",
    "\n",
    "Hint: you can use the `np.linalg.solve(A,S)` function once the matrix and the vector are constructed, as shown in the first task.\n"
   ]
  },
  {
   "cell_type": "code",
   "execution_count": 10,
   "metadata": {},
   "outputs": [],
   "source": [
    "import numpy as np\n",
    "import matplotlib.pyplot as plt\n",
    "a=100\n",
    "D=0.9\n",
    "Sigma_a=0.066\n",
    "L=np.sqrt(D/Sigma_a)\n",
    "B=np.sqrt(Sigma_a/D)\n",
    "N=30"
   ]
  },
  {
   "cell_type": "markdown",
   "metadata": {},
   "source": [
    "### Solution"
   ]
  },
  {
   "cell_type": "code",
   "execution_count": 11,
   "metadata": {},
   "outputs": [
    {
     "data": {
      "image/png": "[encoded data removed]",
      "text/plain": [
       "<Figure size 432x288 with 1 Axes>"
      ]
     },
     "metadata": {
      "needs_background": "light"
     },
     "output_type": "display_data"
    },
    {
     "data": {
      "image/png": "[encoded data removed]",
      "text/plain": [
       "<Figure size 432x288 with 1 Axes>"
      ]
     },
     "metadata": {
      "needs_background": "light"
     },
     "output_type": "display_data"
    }
   ],
   "source": [
    "Delta=a/N\n",
    "x=np.linspace(0,a,N+1)\n",
    "A=np.zeros((N-1,N-1))\n",
    "for i in range(1,N):\n",
    "    if i==1:\n",
    "        A[i-1][i-1]=2*D/Delta**2+Sigma_a\n",
    "        A[i-1][i]=-D/Delta**2\n",
    "    elif i==N-1:\n",
    "        A[i-1][i-2]=-D/Delta**2\n",
    "        A[i-1][i-1]=2*D/Delta**2+Sigma_a\n",
    "    else:\n",
    "        A[i-1][i-2]=-D/Delta**2\n",
    "        A[i-1][i-1]=2*D/Delta**2+Sigma_a\n",
    "        A[i-1][i]=-D/Delta**2\n",
    "\n",
    "        \n",
    "        \n",
    "S=np.zeros(N-1)\n",
    "S[14]=1000           #\"plane\" source\n",
    "\n",
    "flux=np.linalg.solve(A,S)\n",
    "\n",
    "plt.figure()\n",
    "plt.plot(x[1:-1],flux)\n",
    "plt.show()\n",
    "\n",
    "S=np.zeros(N-1)\n",
    "S=100*np.ones(N-1)  #constant source everywhere\n",
    "\n",
    "flux=np.linalg.solve(A,S)\n",
    "\n",
    "plt.figure()\n",
    "plt.plot(x[1:-1],flux)\n",
    "plt.show()"
   ]
  },
  {
   "cell_type": "code",
   "execution_count": 12,
   "metadata": {},
   "outputs": [
    {
     "name": "stdout",
     "output_type": "stream",
     "text": [
      "[[ 0.228 -0.081  0.     0.     0.     0.     0.     0.     0.     0.\n",
      "   0.     0.     0.     0.     0.     0.     0.     0.     0.     0.\n",
      "   0.     0.     0.     0.     0.     0.     0.     0.     0.   ]\n",
      " [-0.081  0.228 -0.081  0.     0.     0.     0.     0.     0.     0.\n",
      "   0.     0.     0.     0.     0.     0.     0.     0.     0.     0.\n",
      "   0.     0.     0.     0.     0.     0.     0.     0.     0.   ]\n",
      " [ 0.    -0.081  0.228 -0.081  0.     0.     0.     0.     0.     0.\n",
      "   0.     0.     0.     0.     0.     0.     0.     0.     0.     0.\n",
      "   0.     0.     0.     0.     0.     0.     0.     0.     0.   ]\n",
      " [ 0.     0.    -0.081  0.228 -0.081  0.     0.     0.     0.     0.\n",
      "   0.     0.     0.     0.     0.     0.     0.     0.     0.     0.\n",
      "   0.     0.     0.     0.     0.     0.     0.     0.     0.   ]\n",
      " [ 0.     0.     0.    -0.081  0.228 -0.081  0.     0.     0.     0.\n",
      "   0.     0.     0.     0.     0.     0.     0.     0.     0.     0.\n",
      "   0.     0.     0.     0.     0.     0.     0.     0.     0.   ]\n",
      " [ 0.     0.     0.     0.    -0.081  0.228 -0.081  0.     0.     0.\n",
      "   0.     0.     0.     0.     0.     0.     0.     0.     0.     0.\n",
      "   0.     0.     0.     0.     0.     0.     0.     0.     0.   ]\n",
      " [ 0.     0.     0.     0.     0.    -0.081  0.228 -0.081  0.     0.\n",
      "   0.     0.     0.     0.     0.     0.     0.     0.     0.     0.\n",
      "   0.     0.     0.     0.     0.     0.     0.     0.     0.   ]\n",
      " [ 0.     0.     0.     0.     0.     0.    -0.081  0.228 -0.081  0.\n",
      "   0.     0.     0.     0.     0.     0.     0.     0.     0.     0.\n",
      "   0.     0.     0.     0.     0.     0.     0.     0.     0.   ]\n",
      " [ 0.     0.     0.     0.     0.     0.     0.    -0.081  0.228 -0.081\n",
      "   0.     0.     0.     0.     0.     0.     0.     0.     0.     0.\n",
      "   0.     0.     0.     0.     0.     0.     0.     0.     0.   ]\n",
      " [ 0.     0.     0.     0.     0.     0.     0.     0.    -0.081  0.228\n",
      "  -0.081  0.     0.     0.     0.     0.     0.     0.     0.     0.\n",
      "   0.     0.     0.     0.     0.     0.     0.     0.     0.   ]\n",
      " [ 0.     0.     0.     0.     0.     0.     0.     0.     0.    -0.081\n",
      "   0.228 -0.081  0.     0.     0.     0.     0.     0.     0.     0.\n",
      "   0.     0.     0.     0.     0.     0.     0.     0.     0.   ]\n",
      " [ 0.     0.     0.     0.     0.     0.     0.     0.     0.     0.\n",
      "  -0.081  0.228 -0.081  0.     0.     0.     0.     0.     0.     0.\n",
      "   0.     0.     0.     0.     0.     0.     0.     0.     0.   ]\n",
      " [ 0.     0.     0.     0.     0.     0.     0.     0.     0.     0.\n",
      "   0.    -0.081  0.228 -0.081  0.     0.     0.     0.     0.     0.\n",
      "   0.     0.     0.     0.     0.     0.     0.     0.     0.   ]\n",
      " [ 0.     0.     0.     0.     0.     0.     0.     0.     0.     0.\n",
      "   0.     0.    -0.081  0.228 -0.081  0.     0.     0.     0.     0.\n",
      "   0.     0.     0.     0.     0.     0.     0.     0.     0.   ]\n",
      " [ 0.     0.     0.     0.     0.     0.     0.     0.     0.     0.\n",
      "   0.     0.     0.    -0.081  0.228 -0.081  0.     0.     0.     0.\n",
      "   0.     0.     0.     0.     0.     0.     0.     0.     0.   ]\n",
      " [ 0.     0.     0.     0.     0.     0.     0.     0.     0.     0.\n",
      "   0.     0.     0.     0.    -0.081  0.228 -0.081  0.     0.     0.\n",
      "   0.     0.     0.     0.     0.     0.     0.     0.     0.   ]\n",
      " [ 0.     0.     0.     0.     0.     0.     0.     0.     0.     0.\n",
      "   0.     0.     0.     0.     0.    -0.081  0.228 -0.081  0.     0.\n",
      "   0.     0.     0.     0.     0.     0.     0.     0.     0.   ]\n",
      " [ 0.     0.     0.     0.     0.     0.     0.     0.     0.     0.\n",
      "   0.     0.     0.     0.     0.     0.    -0.081  0.228 -0.081  0.\n",
      "   0.     0.     0.     0.     0.     0.     0.     0.     0.   ]\n",
      " [ 0.     0.     0.     0.     0.     0.     0.     0.     0.     0.\n",
      "   0.     0.     0.     0.     0.     0.     0.    -0.081  0.228 -0.081\n",
      "   0.     0.     0.     0.     0.     0.     0.     0.     0.   ]\n",
      " [ 0.     0.     0.     0.     0.     0.     0.     0.     0.     0.\n",
      "   0.     0.     0.     0.     0.     0.     0.     0.    -0.081  0.228\n",
      "  -0.081  0.     0.     0.     0.     0.     0.     0.     0.   ]\n",
      " [ 0.     0.     0.     0.     0.     0.     0.     0.     0.     0.\n",
      "   0.     0.     0.     0.     0.     0.     0.     0.     0.    -0.081\n",
      "   0.228 -0.081  0.     0.     0.     0.     0.     0.     0.   ]\n",
      " [ 0.     0.     0.     0.     0.     0.     0.     0.     0.     0.\n",
      "   0.     0.     0.     0.     0.     0.     0.     0.     0.     0.\n",
      "  -0.081  0.228 -0.081  0.     0.     0.     0.     0.     0.   ]\n",
      " [ 0.     0.     0.     0.     0.     0.     0.     0.     0.     0.\n",
      "   0.     0.     0.     0.     0.     0.     0.     0.     0.     0.\n",
      "   0.    -0.081  0.228 -0.081  0.     0.     0.     0.     0.   ]\n",
      " [ 0.     0.     0.     0.     0.     0.     0.     0.     0.     0.\n",
      "   0.     0.     0.     0.     0.     0.     0.     0.     0.     0.\n",
      "   0.     0.    -0.081  0.228 -0.081  0.     0.     0.     0.   ]\n",
      " [ 0.     0.     0.     0.     0.     0.     0.     0.     0.     0.\n",
      "   0.     0.     0.     0.     0.     0.     0.     0.     0.     0.\n",
      "   0.     0.     0.    -0.081  0.228 -0.081  0.     0.     0.   ]\n",
      " [ 0.     0.     0.     0.     0.     0.     0.     0.     0.     0.\n",
      "   0.     0.     0.     0.     0.     0.     0.     0.     0.     0.\n",
      "   0.     0.     0.     0.    -0.081  0.228 -0.081  0.     0.   ]\n",
      " [ 0.     0.     0.     0.     0.     0.     0.     0.     0.     0.\n",
      "   0.     0.     0.     0.     0.     0.     0.     0.     0.     0.\n",
      "   0.     0.     0.     0.     0.    -0.081  0.228 -0.081  0.   ]\n",
      " [ 0.     0.     0.     0.     0.     0.     0.     0.     0.     0.\n",
      "   0.     0.     0.     0.     0.     0.     0.     0.     0.     0.\n",
      "   0.     0.     0.     0.     0.     0.    -0.081  0.228 -0.081]\n",
      " [ 0.     0.     0.     0.     0.     0.     0.     0.     0.     0.\n",
      "   0.     0.     0.     0.     0.     0.     0.     0.     0.     0.\n",
      "   0.     0.     0.     0.     0.     0.     0.    -0.081  0.228]]\n"
     ]
    }
   ],
   "source": [
    "print(A)"
   ]
  },
  {
   "cell_type": "code",
   "execution_count": null,
   "metadata": {},
   "outputs": [],
   "source": []
  }
 ],
 "metadata": {
  "kernelspec": {
   "display_name": "Python 3",
   "language": "python",
   "name": "python3"
  },
  "language_info": {
   "codemirror_mode": {
    "name": "ipython",
    "version": 3
   },
   "file_extension": ".py",
   "mimetype": "text/x-python",
   "name": "python",
   "nbconvert_exporter": "python",
   "pygments_lexer": "ipython3",
   "version": "3.7.3"
  }
 },
 "nbformat": 4,
 "nbformat_minor": 2
}
