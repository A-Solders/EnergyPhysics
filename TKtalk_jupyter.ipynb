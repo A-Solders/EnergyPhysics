{
 "cells": [
  {
   "cell_type": "markdown",
   "metadata": {
    "slideshow": {
     "slide_type": "slide"
    }
   },
   "source": [
    "Jupyter notebooks in education\n",
    "==========================\n",
    "\n",
    "**Zsolt Elter, Andreas Solders** \n",
    "\n",
    "*TK Talk, 2020 March*\n"
   ]
  },
  {
   "cell_type": "markdown",
   "metadata": {
    "slideshow": {
     "slide_type": "slide"
    }
   },
   "source": [
    "# Content\n",
    "\n",
    "- Brief overview of Jupyter notebooks\n",
    "- Brief overview of Energy physics II topics\n",
    "- Lot of demonstration\n",
    "- Hopefully a lot of Q&A (we need ideas for notebooks:))"
   ]
  },
  {
   "cell_type": "markdown",
   "metadata": {
    "slideshow": {
     "slide_type": "slide"
    }
   },
   "source": [
    "# What is a Jupyter notebook?\n",
    "\n",
    "Browser-based document mixing\n",
    "\n",
    "- Narrative text written in Markdown\n",
    "- Equations written in $\\LaTeX$\n",
    "- Live, executable code (eg. python)\n",
    "- Visualizations (eg. matplotlib)\n",
    "\n",
    "Might be familiar to Wolfram Mathematica users!\n"
   ]
  },
  {
   "cell_type": "markdown",
   "metadata": {
    "slideshow": {
     "slide_type": "slide"
    }
   },
   "source": [
    "# What else?\n",
    "\n",
    "It is ideal for\n",
    "\n",
    "- A report (popular in data science)\n",
    "- Data analysis code documentation\n",
    "- Apparently, also a slideshow\n",
    "- Textbook for education\n",
    "- [Examples for APIs](https://github.com/ezsolti/feign/tree/master/examples)\n",
    "\n",
    "But! Not very comfortable\n",
    "\n",
    "- For scripting\n",
    "- Software development\n",
    "- Don't throw away your preferred editor yet:)"
   ]
  },
  {
   "cell_type": "markdown",
   "metadata": {
    "slideshow": {
     "slide_type": "slide"
    }
   },
   "source": [
    "# How is it viewed?\n",
    "\n",
    "- Can be exported to latex (thus pdf)\n",
    "- Can be exported to html\n",
    "- github renders it nicely\n",
    "- But! Ideally as a jupyter notebook file opened in browser.\n",
    "\n",
    "So students need jupyter to be installed?\n",
    "\n",
    "- Ideally, yes. (comes with Anaconda)\n",
    "- Jupyterhub? Not tested by us\n",
    "- [https://mybinder.org/](https://mybinder.org/)\n",
    "\n",
    "All of our students managed to install jupyter!"
   ]
  },
  {
   "cell_type": "markdown",
   "metadata": {
    "slideshow": {
     "slide_type": "slide"
    }
   },
   "source": [
    "# First example\n",
    "\n",
    "One describes some problem with equations, then some code.\n",
    "\n",
    "$$f(t)=C\\cdot t^2$$"
   ]
  },
  {
   "cell_type": "code",
   "execution_count": 5,
   "metadata": {
    "slideshow": {
     "slide_type": "-"
    }
   },
   "outputs": [
    {
     "data": {
      "image/png": "[encoded data removed]",
      "text/plain": [
       "<Figure size 432x288 with 1 Axes>"
      ]
     },
     "metadata": {
      "needs_background": "light"
     },
     "output_type": "display_data"
    }
   ],
   "source": [
    "import matplotlib.pyplot as plt\n",
    "import numpy as np\n",
    "C=3\n",
    "t=np.linspace(0,10,1000)\n",
    "\n",
    "plt.figure()\n",
    "plt.plot(t,C*t**2)\n",
    "plt.xlabel('t')\n",
    "plt.ylabel('f')\n",
    "plt.show()"
   ]
  },
  {
   "cell_type": "markdown",
   "metadata": {
    "slideshow": {
     "slide_type": "slide"
    }
   },
   "source": [
    "# Markdown\n",
    "    \n",
    "Markdown is a very **simple** and _eady to learn_ markup language. \n",
    "- [cheatsheet](https://github.com/adam-p/markdown-here/wiki/Markdown-Cheatsheet)\n",
    "- No extra effort using it\n",
    "\n",
    "        # Markdown\n",
    "    \n",
    "        Markdown is a very **simple** and _eady to learn_ markup language. \n",
    "        - [cheatsheet](https://github.com/adam-p/markdown-here/wiki/Markdown-Cheatsheet)\n",
    "        - No extra effort using it\n",
    "    \n",
    "\n",
    "    "
   ]
  },
  {
   "cell_type": "markdown",
   "metadata": {
    "slideshow": {
     "slide_type": "slide"
    }
   },
   "source": [
    "# Course where implemented\n",
    "\n",
    "- Energy Physics II with Nuclear Energy, 10.0 c (first part)\n",
    "- Introductory reactor physics\n",
    "  - Neutron cross sections\n",
    "  - Neutron slowing down\n",
    "  - Neutron diffusion\n",
    "  - Point kinetics\n",
    "- Large variety of data is involved (cross sections, nubar, spectra)\n",
    "- Reactor physics is driven by computations\n",
    "- Ideal case for Problem-based learning"
   ]
  },
  {
   "cell_type": "markdown",
   "metadata": {
    "slideshow": {
     "slide_type": "slide"
    }
   },
   "source": [
    "# Usage in the course\n",
    "\n",
    "- Tutorial solutions ([show plots and equations](https://github.com/ezsolti/EnergyPhysics/blob/master/week1.ipynb)\n",
    "- Interactive plots in lectures\n",
    "- Home assignments\n",
    "   - Students receive introduction\n",
    "   - Data (eg. cross section or measurement)\n",
    "   - Instructions\n",
    "   - Then they write the exercise in the notebook"
   ]
  },
  {
   "cell_type": "markdown",
   "metadata": {
    "slideshow": {
     "slide_type": "slide"
    }
   },
   "source": [
    "# Demonstrations\n",
    "\n",
    "- Week 1 tutorial\n",
    "- XS plotting assignment\n",
    "- Area method assignment\n",
    "- Numerical method assignment\n"
   ]
  },
  {
   "cell_type": "markdown",
   "metadata": {
    "slideshow": {
     "slide_type": "slide"
    }
   },
   "source": [
    "# Demonstrations\n",
    "\n",
    "Provide some binder link where people can try some simple task?"
   ]
  },
  {
   "cell_type": "markdown",
   "metadata": {
    "slideshow": {
     "slide_type": "slide"
    }
   },
   "source": [
    "# Feedbacks\n",
    "\n",
    "- Steep learning curve \n",
    "   - Installing jupyter was not straightforward\n",
    "   - Programming knowledge is often missing\n",
    "   - Can we expect a _for_ loop?\n",
    "- Correcting is a bit problematic\n",
    "   - Students did not include their name\n",
    "   - Some students did not change filename\n",
    "   - We will need to explicicitly include instructions for that!\n",
    "- Even some other assignments were submitted as notebooks: WOW!\n",
    "- ”Feels more like actual research, it is fun”\n"
   ]
  },
  {
   "cell_type": "markdown",
   "metadata": {
    "slideshow": {
     "slide_type": "slide"
    }
   },
   "source": [
    "# Future\n",
    "\n",
    "- More assignments\n",
    "- Several worked examples\n",
    "- Textbook chapters?\n",
    "- Implement in other coursework?\n",
    "   - OpenMC, OpenMOC have [python API](https://docs.openmc.org/en/stable/examples/pincell.html)\n",
    "   - Could we bring hardcore reactor physics to students through notebooks?"
   ]
  }
 ],
 "metadata": {
  "celltoolbar": "Slideshow",
  "kernelspec": {
   "display_name": "Python 3",
   "language": "python",
   "name": "python3"
  },
  "language_info": {
   "codemirror_mode": {
    "name": "ipython",
    "version": 3
   },
   "file_extension": ".py",
   "mimetype": "text/x-python",
   "name": "python",
   "nbconvert_exporter": "python",
   "pygments_lexer": "ipython3",
   "version": "3.7.3"
  }
 },
 "nbformat": 4,
 "nbformat_minor": 2
}
