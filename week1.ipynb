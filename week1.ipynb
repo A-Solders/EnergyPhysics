{
 "cells": [
  {
   "cell_type": "markdown",
   "metadata": {},
   "source": [
    "created by Zsolt Elter (2020)"
   ]
  },
  {
   "cell_type": "markdown",
   "metadata": {},
   "source": [
    "# 1st exercise\n",
    "\n",
    "$$ \\epsilon = \\frac{N_{235}}{N_{235}+N_{238}} $$\n",
    "\n",
    "let's rearrange this\n",
    "\n",
    "$$ \\frac{1}{\\epsilon} = \\frac{N_{235}+N_{238}}{N_{235}} = 1 + \\frac{N_{238}}{N_{235}} $$\n",
    "\n",
    "The same is true to some t=0 (this might be at the birth of the Earth, or any other arbitrary choice). so Let's say\n",
    "\n",
    "$$ \\frac{1}{\\epsilon_0} = \\frac{N_{235,0}+N_{238,0}}{N_{235,0}} = 1 + \\frac{N_{238,0}}{N_{235,0}} $$\n",
    "\n",
    "\n",
    "Now consider it a certain time $t$ after\n",
    "\n",
    "$$ \\epsilon (t) = \\frac{N_{235,0}e^{-\\lambda_{235}t}}{N_{235,0}e^{-\\lambda_{235}t}+N_{238,0}e^{-\\lambda_{238}t}} = \\frac{N_{235,0}C_{235}(t)}{N_{235,0}C_{235}(t)+N_{238,0}C_{238}(t)}$$\n",
    "\n",
    "if t=0 is at the birth of Earth (so now is 4.5e9 years after)\n",
    "\n",
    "$$ \\epsilon_{now} = \\frac{N_{235,0}C_{235}}{N_{235,0}C_{235}+N_{238,0}C_{238}}$$\n",
    "\n",
    "thus\n",
    "\n",
    "$$ \\frac{1}{\\epsilon_{now}} = 1+ \\frac{N_{238,0}}{N_{235,0}}\\frac{C_{238}}{C_{235}}$$\n",
    "\n",
    "so\n",
    "\n",
    "\n",
    "$$ \\frac{N_{238,0}}{N_{235,0}} = (\\frac{1}{\\epsilon_{now}}-1)\\frac{C_{235}}{C_{238}}$$\n",
    "\n",
    "finally\n",
    "\n",
    "$$\\epsilon_0 = \\frac{1}{1+ (\\frac{1}{\\epsilon_{now}}-1)\\frac{C_{235}}{C_{238}}}$$\n",
    "\n",
    "where $\\epsilon_{now}=0.0072$\n",
    "\n",
    "\n",
    "\n"
   ]
  },
  {
   "cell_type": "code",
   "execution_count": 1,
   "metadata": {},
   "outputs": [
    {
     "name": "stdout",
     "output_type": "stream",
     "text": [
      "0.22272471435556812\n"
     ]
    }
   ],
   "source": [
    "import numpy as np\n",
    "import matplotlib.pyplot as plt\n",
    "epsNow=0.72/100\n",
    "t=4.5e9 #y\n",
    "l5=np.log(2)/7.13e8 #1/y\n",
    "l8=np.log(2)/4.468e9 #1/y\n",
    "\n",
    "C235=np.exp(-l5*t)\n",
    "C238=np.exp(-l8*t)\n",
    "\n",
    "eps0=1/(1+(1/epsNow-1)*C235/C238)\n",
    "print(eps0)"
   ]
  },
  {
   "cell_type": "code",
   "execution_count": 2,
   "metadata": {},
   "outputs": [
    {
     "data": {
      "image/png": "[encoded data removed]",
      "text/plain": [
       "<Figure size 432x288 with 1 Axes>"
      ]
     },
     "metadata": {
      "needs_background": "light"
     },
     "output_type": "display_data"
    }
   ],
   "source": [
    "t=np.logspace(9.778,0,100)\n",
    "C235=np.exp(-l5*t)\n",
    "C238=np.exp(-l8*t)\n",
    "eps0=1/(1+(1/epsNow-1)*C235/C238)\n",
    "\n",
    "plt.figure()\n",
    "plt.plot(t,eps0)\n",
    "plt.axvline(x=4.5e9,color='k') #Birth\n",
    "plt.axvline(x=1.7e9,color='k') #Oklo\n",
    "plt.xlabel('time (years)')\n",
    "plt.ylabel('enrichment')\n",
    "plt.show()"
   ]
  },
  {
   "cell_type": "markdown",
   "metadata": {},
   "source": [
    "# 2nd exersize: Xenon\n",
    "\n",
    "Xe-135 has a huge neutron capture cross section (depending on reactor conditions it is 2-3 million barns). It is produced from fission and also from the decay of I-135.\n",
    "\n",
    "a, What is the saturation concentration of Xe and I? How does it depend on the flux?\n",
    "b, How does the amount of Xe-135 change after the shutdown of the reactor?\n",
    "\n",
    "\n",
    "\n",
    "Simplified path for Xe135: it is produced from fission, decays with T1/2=9.17h and consumed by absorption. Also I135 is created in fission, and decays into Xe135.\n",
    "\n",
    "Then the system can be expressed with the coupled ODE:\n",
    "\n",
    "\n",
    "$$ \\frac{dN_I}{dt}=Y_I\\Sigma_f\\varphi-\\lambda_IN_I $$\n",
    "\n",
    "$$ \\frac{dN_{Xe}}{dt}=Y_{Xe}\\Sigma_f\\varphi + \\lambda_IN_I -\\lambda_{Xe}N_{Xe} - \\sigma_{Xe}N_{Xe}\\varphi  $$\n",
    "\n",
    "with conditions $N_I(0)=N_{Xe}(0)=0$\n",
    "\n",
    "Solving the first one is rather simple:\n",
    "\n",
    "$$ N_I(t)=\\frac{Y_I\\Sigma_f\\varphi}{\\lambda_I} - \\frac{Y_I\\Sigma_f\\varphi}{\\lambda_I}e^{-\\lambda_It} $$\n",
    "\n",
    "with that the Xe differential equation becomes\n",
    "\n",
    "$$ \\frac{dN_{Xe}}{dt}=Y_{Xe}\\Sigma_f\\varphi + Y_I\\Sigma_f\\varphi - Y_I\\Sigma_f\\varphi e^{-\\lambda_It} -\\lambda_{Xe}N_{Xe} - \\sigma_{Xe}N_{Xe}\\varphi  $$\n",
    "\n",
    "which is still doable by smart people, less smart ones use some tool (eg. with  https://www.wolframalpha.com/input/?i=dN%2Fdt%3DC1%2BC2-C2*exp%28-l1*t%29-l2*N-C3*N )\n",
    "\n",
    "and the solution becomes\n",
    "\n",
    "$$ N_{Xe}(t) = c e^{t(-\\sigma_{Xe}\\varphi - \\lambda_{Xe})} + \\frac{Y_{Xe}\\Sigma_f\\varphi}{\\sigma_{Xe}\\varphi + \\lambda_{Xe}} - \\frac{Y_I\\Sigma_f\\varphi}{\\sigma_{Xe}\\varphi-\\lambda_I + \\lambda_{Xe}}e^{-\\lambda_It} + \\frac{Y_{I}\\Sigma_f\\varphi}{\\sigma_{Xe}\\varphi + \\lambda_{Xe}}  $$\n",
    "\n",
    "where \n",
    "\n",
    "$$ c= \\frac{Y_I\\Sigma_f\\varphi}{\\sigma_{Xe}\\varphi-\\lambda_I + \\lambda_{Xe}}  -\\frac{(Y_{I}+Y_{Xe})\\Sigma_f\\varphi}{\\sigma_{Xe}\\varphi + \\lambda_{Xe}}   $$\n",
    "\n",
    "## Saturation\n",
    "\n",
    "What is interesting here is the saturation concentration, when $dN/dt = 0$\n",
    "\n",
    "$$N_I(\\infty) = \\frac{Y_I\\Sigma_f\\varphi}{\\lambda_I} $$\n",
    "\n",
    "and \n",
    "\n",
    "$$N_{Xe}(\\infty) = \\frac{(Y_{Xe}+Y_I)\\Sigma_f\\varphi}{\\lambda_{Xe} + \\sigma_{Xe}\\varphi} $$\n",
    "\n",
    "Now, $\\lambda_{Xe}$ is around 1e-5, similar order of magnitude as $ \\sigma_{Xe}\\varphi $ if the flux is around 1e13 (as in a normal reactor). So notice, for low ($\\leq$ 1e12) fluxes, then $\\sigma_{Xe}\\varphi $ can be neglected, and the concentration is proportional to the flux! If the flux is high ($\\geq$1e14), the $\\lambda_{Xe}$ can be neglected, and the concentration is independent from the flux. In reality the flux is usally somewhere in between, the concentration is not proportional anymore with the flux, but still grows with it."
   ]
  },
  {
   "cell_type": "code",
   "execution_count": 3,
   "metadata": {},
   "outputs": [],
   "source": [
    "Y_Xe=7.507970e-04\n",
    "Y_I=2.922920e-02+3.211290e-02 #for I-135 and Te135\n",
    "Sigma_f=8.19863245263419E-04*583 #barn-1cm-1 * barn\n",
    "phi=1e14\n",
    "T_12_Xe=9.17*60*60 #s\n",
    "T_12_I=6.58*60*60 #s\n",
    "lambda_Xe=np.log(2)/T_12_Xe\n",
    "lambda_I=np.log(2)/T_12_I\n",
    "sigma_Xe=2e6*1e-24 #barn to cm2\n",
    "\n",
    "#some helper variables\n",
    "C_I=Y_I*Sigma_f*phi\n",
    "C_Xe=Y_Xe*Sigma_f*phi\n",
    "R_Xe=sigma_Xe*phi\n",
    "c=C_I/(R_Xe-lambda_I+lambda_Xe)-(C_I+C_Xe)/(R_Xe+lambda_Xe)\n",
    "\n",
    "t=np.linspace(0,100000)\n",
    "N_I=C_I/lambda_I - (C_I/lambda_I)*np.exp(-lambda_I*t)\n",
    "N_Xe=c*np.exp(t*(-R_Xe-lambda_Xe)) + C_Xe/(R_Xe+lambda_Xe) - (C_I/(R_Xe-lambda_I+lambda_Xe))*np.exp(-lambda_I*t) + C_I/(R_Xe+lambda_Xe) "
   ]
  },
  {
   "cell_type": "code",
   "execution_count": 4,
   "metadata": {},
   "outputs": [
    {
     "data": {
      "image/png": "[encoded data removed]",
      "text/plain": [
       "<Figure size 432x288 with 1 Axes>"
      ]
     },
     "metadata": {
      "needs_background": "light"
     },
     "output_type": "display_data"
    }
   ],
   "source": [
    "plt.figure()\n",
    "plt.semilogy(t/60/60,N_I,'k')\n",
    "plt.semilogy(t/60/60,N_Xe,'r')\n",
    "plt.xlabel('Time (h)')\n",
    "plt.show()"
   ]
  },
  {
   "cell_type": "markdown",
   "metadata": {},
   "source": [
    "## After shutdown\n",
    "\n",
    "Let's consider that at t=0 zero, Xe and I are already saturated, and the reactor shuts down. The ODEs simplify to (note, flux is zero)\n",
    "\n",
    "$$ \\frac{dN_I}{dt}=-\\lambda_IN_I $$\n",
    "\n",
    "$$ \\frac{dN_{Xe}}{dt}= \\lambda_IN_I -\\lambda_{Xe}N_{Xe} $$\n",
    "\n",
    "with conditions $N_I(0)=N_I(\\infty)$ $N_{Xe}(0)=N_{Xe}(\\infty)$\n",
    "\n",
    "which is hopefully not confusing, the infinite case refers to the previously obtained values.\n",
    "\n",
    "Then\n",
    "\n",
    "$$ N_I(t)=N_I(\\infty)e^{-\\lambda_It} $$\n",
    "\n",
    "and\n",
    "\n",
    "$$ N_{Xe}(t) = c e^{-\\lambda_{Xe}t} - \\frac{\\lambda_I}{\\lambda_I - \\lambda_{Xe}}N_I(\\infty)e^{-\\lambda_{I}t} $$\n",
    "\n",
    "where\n",
    "\n",
    "$$ c = N_{Xe}(\\infty)+\\frac{\\lambda_I}{\\lambda_I - \\lambda_{Xe}}N_I(\\infty) $$\n",
    "\n",
    "thus\n",
    "\n",
    "$$ N_{Xe} (t) = N_{Xe}(\\infty)e^{-\\lambda_{Xe}t}+\\frac{\\lambda_I}{\\lambda_I - \\lambda_{Xe}}N_I(\\infty)e^{-\\lambda_{Xe}t} - \\frac{\\lambda_I}{\\lambda_I - \\lambda_{Xe}}N_I(\\infty)e^{-\\lambda_{I}t} $$\n",
    "\n",
    "$$ N_{Xe} (t) = N_{Xe}(\\infty)e^{-\\lambda_{Xe}t}+\\frac{\\lambda_I}{\\lambda_I - \\lambda_{Xe}}N_I(\\infty)(e^{-\\lambda_{Xe}t} - e^{-\\lambda_{I}t}) $$"
   ]
  },
  {
   "cell_type": "code",
   "execution_count": 5,
   "metadata": {},
   "outputs": [],
   "source": [
    "N_I_inf=C_I/lambda_I\n",
    "N_Xe_inf=(C_I+C_Xe)/(R_Xe+lambda_Xe)\n",
    "\n",
    "t=np.linspace(0,45)*60*60\n",
    "N_Xe_shut = N_Xe_inf*np.exp(-lambda_Xe*t)+((lambda_I*N_I_inf)/(lambda_I-lambda_Xe))*(np.exp(-lambda_Xe*t)-np.exp(-lambda_I*t))"
   ]
  },
  {
   "cell_type": "code",
   "execution_count": 6,
   "metadata": {},
   "outputs": [
    {
     "data": {
      "image/png": "[encoded data removed]",
      "text/plain": [
       "<Figure size 432x288 with 1 Axes>"
      ]
     },
     "metadata": {
      "needs_background": "light"
     },
     "output_type": "display_data"
    }
   ],
   "source": [
    "plt.figure()\n",
    "plt.plot(t/60/60,N_Xe_shut)\n",
    "plt.xlabel('Time (h)')\n",
    "plt.show()"
   ]
  },
  {
   "cell_type": "markdown",
   "metadata": {},
   "source": [
    "# 3rd exercise: neutron flux\n",
    "\n",
    "A beam of low energy neutrons, with an intensity of 10$^6$ s$^{-1}$ traverses a foil of $^{235}$U, with a thickness of 7.85 $\\cdot$ 10$^{-5}$ m. If the fission cross section is 200 barn.\n",
    "\n",
    "- find the rate of fissions induced in the foil by the neutrons.\n",
    "\n",
    "$$ I(x)=I_0 e^{-\\sigma_fNx} $$\n",
    "\n",
    "where\n",
    "\n",
    "$$ N = \\frac{N_A \\rho}{A} $$\n",
    "\n",
    "Calculate N, then I(d), finally the fission rate is $I_0 - I(d)$"
   ]
  },
  {
   "cell_type": "code",
   "execution_count": 7,
   "metadata": {},
   "outputs": [
    {
     "name": "stdout",
     "output_type": "stream",
     "text": [
      "Intensity after the foil (1/s)\n",
      "926034.9680710656\n",
      "Fission rate I0-I (1/s)\n",
      "73965.03192893439\n"
     ]
    }
   ],
   "source": [
    "I0=1e6 #s-1\n",
    "d=7.85e-3 #cm\n",
    "sig_f=200*1e-24 #barn to cm2\n",
    "\n",
    "NA=6.022e23\n",
    "rho=19.1 #g/cm3\n",
    "A=235\n",
    "\n",
    "N=NA*rho/A #/cm3\n",
    "\n",
    "I=I0*np.exp(-sig_f*N*d) #/s\n",
    "print('Intensity after the foil (1/s)')\n",
    "print(I)\n",
    "\n",
    "print('Fission rate I0-I (1/s)')\n",
    "print(I0-I)"
   ]
  },
  {
   "cell_type": "markdown",
   "metadata": {},
   "source": [
    "# 4th exercise: reproduction factor"
   ]
  },
  {
   "cell_type": "markdown",
   "metadata": {},
   "source": [
    "# 5th exercise: Nuclear Fission\n",
    "\n",
    "Assume that in each fission of $^{235}$U, 200 MeV is released. Assuming that 5 \\% of the energy is wasted in neutrinos,\n",
    "\n",
    "a, calculate the amount of $^{235}$U burned which would be necessary to supply at 30 \\% efficiency an annual electricity consumption of 50 $\\times$ 10$^9$ kWh.\n",
    "\n",
    "$$\\frac{50\\cdot10^{9}\\cdot 1000 \\cdot 60 \\cdot60}{200\\cdot1.6\\cdot10^{-13}\\cdot0.95\\cdot0.3}=\\#Fission$$\n",
    "\n",
    "$$M=\\frac{\\#Fission}{N_A}A$$\n",
    "\n",
    "\n",
    "A thermal reactor contains 100 tons of natural uranium and operates at a power of 100 MW. Assuming that the thermal cross section of $^{235}$U is 550 barns and that the uranium contains 0.7 \\% of $^{235}$U.\n",
    "\n",
    "b, Calculate the neutron flux near the center of the reactor by neglecting neutron losses to the outside and assuming constant flux throughout the lattice.\n",
    "\n",
    "$$N=\\frac{N_A\\rho\\cdot0.007}{A}$$\n",
    "\n",
    "$$N\\sigma_f\\varphi=RR [\\frac{1}{cm^3s}]$$\n",
    "\n",
    "therefore generated power in whole reactor\n",
    "\n",
    "$$P=N\\sigma_f\\varphi\\cdot V\\cdot200\\cdot1.6\\cdot10^{-13}$$\n",
    "\n",
    "\n",
    "\n",
    "\n",
    "    "
   ]
  },
  {
   "cell_type": "code",
   "execution_count": 8,
   "metadata": {},
   "outputs": [
    {
     "name": "stdout",
     "output_type": "stream",
     "text": [
      "7.691558908466918\n"
     ]
    }
   ],
   "source": [
    "MeV_J=1.60217662e-13\n",
    "energyNeeded=50e9*1000*60*60 #J\n",
    "usefulFission=200*0.95*0.3*MeV_J\n",
    "NA=6.022e23\n",
    "A=235\n",
    "numberOfFission=energyNeeded/usefulFission\n",
    "massU235=(numberOfFission/NA)*A\n",
    "print(massU235/1e6)#tonnes"
   ]
  },
  {
   "cell_type": "code",
   "execution_count": 9,
   "metadata": {},
   "outputs": [
    {
     "name": "stdout",
     "output_type": "stream",
     "text": [
      "3.163195222096784\n"
     ]
    }
   ],
   "source": [
    "P=100e6 #W\n",
    "m=100e6 #g\n",
    "sig=550*1e-24 #barns to cm2\n",
    "rho=19.1 #g/cm3\n",
    "V=m/rho\n",
    "eps=0.007\n",
    "N=NA*rho*eps/A\n",
    "\n",
    "Sig=N*sig\n",
    "\n",
    "\n",
    "flux=P/(V*Sig*200*MeV_J)\n",
    "print(flux/1e12)"
   ]
  },
  {
   "cell_type": "code",
   "execution_count": null,
   "metadata": {},
   "outputs": [],
   "source": []
  }
 ],
 "metadata": {
  "kernelspec": {
   "display_name": "Python 3",
   "language": "python",
   "name": "python3"
  },
  "language_info": {
   "codemirror_mode": {
    "name": "ipython",
    "version": 3
   },
   "file_extension": ".py",
   "mimetype": "text/x-python",
   "name": "python",
   "nbconvert_exporter": "python",
   "pygments_lexer": "ipython3",
   "version": "3.7.3"
  }
 },
 "nbformat": 4,
 "nbformat_minor": 2
}
